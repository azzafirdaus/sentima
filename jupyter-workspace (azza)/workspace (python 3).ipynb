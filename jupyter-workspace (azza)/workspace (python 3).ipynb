{
 "cells": [
  {
   "cell_type": "code",
   "execution_count": 66,
   "metadata": {
    "collapsed": false
   },
   "outputs": [
    {
     "name": "stdout",
     "output_type": "stream",
     "text": [
      "['jayapura', 'kompas']\n",
      "['com', 'surat', 'suara', 'dicoblos', 'warga', 'berperan', 'kepala', 'suku', 'pemunggutan', 'suara', 'ulang', 'kabupaten', 'mamberamo', 'raya', 'maret']\n",
      "['ketua', 'komisi', 'pemilihan', 'mamberamo', 'raya', 'klemens', 'obet', 'sineri', 'menyerahkan', 'dokumen', 'pleno', 'penetapan', 'hasil', 'rekapitulasi', 'suara', 'tps', 'ketua', 'kpu', 'provinsi', 'papua', 'adam', 'arisoy', 'jayapura', 'jumat']\n",
      "['klemens', 'pencoblosan', 'suara', 'kepala', 'suku', 'tps', 'daerah', 'fona', 'wakeyadi']\n",
      "['fona', 'salah', 'kepala', 'suku', 'mencoblos', 'suara']\n",
      "['wakeyadi']\n",
      "['kepala', 'suku', 'mencoblos', 'suara', 'klemens']\n",
      "['surat', 'suara', 'dinyatakan', 'sah', 'penetapan', 'hasil', 'pleno', 'pemungutan', 'suara', 'ulang', 'psu']\n",
      "['kepala', 'suku', 'mencoblos', 'surat', 'suara', 'kandidat', 'bupati', 'nomor', 'dorinus', 'dasinapa', 'yakobus', 'britay']\n",
      "['surat', 'suara', 'dikeluarkan', 'rekapitulasi', 'tingkat', 'kpud', 'klemens']\n",
      "['anggota', 'kpu', 'provinsi', 'papua', 'bidang', 'hukum', 'pengawasan', 'tarwinto', 'kepala', 'suku', 'sistem', 'noken', 'diprateikkan', 'pemilu', 'daerah', 'pegunungan', 'papua']\n",
      "['penerapan', 'sistem', 'mamberamo', 'raya']\n",
      "['kpu', 'mengakui', 'perwakilan', 'kepala', 'suku', 'mencapai', 'suara', 'sesuai', 'prinsip', 'pemilu']\n",
      "['berdasarkan', 'hasil', 'pleno', 'kpu', 'mamberamo', 'raya', 'pencoblosan', 'ulang', 'tps', 'kandidat', 'nomor', 'urut', 'robby', 'wilson', 'rumansara', 'meraih', 'suara', 'kandidat', 'nomor', 'urut', 'demianus', 'kyeuw', 'kyeuw', 'adiryanus', 'manemi', 'meraih', 'suara']\n",
      "['kandidat', 'dorinus', 'yakobus', 'meraih', 'suara']\n",
      "['pt']\n",
      "['kompas', 'cyber', 'media', 'kompas', 'gramedia', 'digital', 'group']\n",
      "['all', 'rights', 'reserved']\n",
      "[]\n",
      "['jakarta', 'kompas']\n",
      "['com', 'kejaksaan', 'dki', 'jakarta', 'mendalami', 'perkara', 'pengadaan', 'iklan', 'melibatkan', 'pt', 'brantas', 'adipraya']\n",
      "['kepala', 'seksi', 'penerangan', 'hukum', 'kejati', 'dki', 'jakarta', 'waluyo', 'enggan', 'berkomentar']\n",
      "['tahap', 'penyelidikan', 'berjalan']\n",
      "['berupaya', 'menemukan', 'unsur', 'tindak', 'pidana', 'korupsi', 'perkara']\n",
      "['penyelidikan']\n",
      "['menemukan', 'tindak', 'pidananya', 'waluyo', 'kantornya', 'jumat']\n",
      "[]\n",
      "['jalan', 'meter', 'sentimeter']\n",
      "['penyidik', 'kpk', 'jumat', 'malam', 'menggeledah', 'kantor', 'kejati', 'dki', 'terkait', 'dugaan', 'suap', 'kejati', 'dki', 'pejabat', 'pt', 'brantas', 'abipraya', 'ditangani', 'kpk']\n",
      "['penggeledahan', 'penyidik', 'kpk', 'menggondol', 'dokumen', 'terkait', 'perkara', 'pt', 'brantas']\n",
      "['waluyo', 'menghentikan', 'proses', 'hukum', 'berjalan']\n",
      "['berlanjut']\n",
      "['acara', 'mundur', 'waluyo']\n",
      "['waluyo', 'perkara', 'berkaitan', 'pengadaan', 'iklan']\n",
      "['menolak', 'membeberkan', 'rinci', 'terkait', 'perkara', 'ditangani', 'kejati', 'dki']\n",
      "['laporan', 'diterima', 'kejati', 'dki', 'perusahaan', 'diduga', 'mempertanggungjawabkan', 'penggunaan', 'anggarannya']\n",
      "['kerugian', 'dilaporkan', 'waluyo', 'rp', 'miliar']\n",
      "['tahap', 'penyelidikan']\n",
      "['ruangan', 'digeledah', 'penyidik', 'kpk', 'milik', 'kepala', 'kejaksaan', 'dki', 'jakarta', 'sudung', 'situmorang', 'asisten', 'pidana', 'khusus', 'kejati', 'dki', 'tomo', 'sitepu']\n",
      "['diperiksa', 'kpk', 'saksi', 'jumat']\n",
      "['kpk', 'menetapkan', 'tersangka', 'sudi', 'wantoko', 'swa', 'direktur', 'keuangan', 'bumn', 'pt', 'ba', 'dandung', 'pamularno', 'dpa', 'senior', 'manager', 'pt', 'ba', 'marudut', 'mrd', 'swasta']\n",
      "['operasi', 'tangkap', 'tangan', 'kpk', 'menyita', 'uang', 'dollar', 'as', 'pecahan', 'dollar', 'as', 'lembar', 'pecahan', 'dollar', 'as', 'lembar', 'pecahan', 'dollar', 'as', 'lembar', 'pecahan', 'dollar', 'as', 'lembar', 'pecahan', 'dollar', 'as']\n",
      "['pt']\n",
      "['kompas', 'cyber', 'media', 'kompas', 'gramedia', 'digital', 'group']\n",
      "['all', 'rights', 'reserved']\n",
      "[]\n"
     ]
    }
   ],
   "source": [
    "import re\n",
    "\n",
    "dic = [{\"Judul\": \"Dua Kepala Suku Coblos 74 Surat Suara Saat Pemungutan Ulang di Mamberamo Raya  - Kompas.com\", \"Konten\": \"JAYAPURA, KOMPAS.com\\u00a0- Sebanyak 74 surat suara hanya dicoblos dua warga yang berperan sebagai kepala suku dalam pemunggutan suara ulang di Kabupaten Mamberamo Raya pada 23 Maret 2016.Hal ini diungkapkan Ketua Komisi Pemilihan Umum Mamberamo Raya Klemens Obet Sineri saat menyerahkan dokumen pleno penetapan hasil rekapitulasi suara untuk 10 TPS kepada Ketua KPU Provinsi Papua Adam Arisoy di Jayapura, Jumat (1/4/2016).Klemens mengatakan, pencoblosan 74 suara oleh dua kepala suku terjadi di dua TPS di daerah Fona dan Wakeyadi.\\\"Di Fona, salah satu kepala suku mencoblos 37 suara. Hal yang sama pun terjadi di Wakeyadi. Seorang kepala suku pun mencoblos hingga 37 suara,\\\" kata Klemens.Ia menyatakan, 74 surat suara itu dinyatakan tidak sah dalam penetapan hasil pleno pemungutan suara ulang (PSU).\\\"Kedua kepala suku mencoblos 74 surat suara hanya untuk kandidat bupati nomor 3, yakni Dorinus Dasinapa dan Yakobus Britay. Namun, 74 surat suara ini telah dikeluarkan pada saat rekapitulasi di tingkat KPUD,\\\" kata Klemens.Anggota KPU Provinsi Papua Bidang Hukum dan Pengawasan Tarwinto mengatakan, cara yang digunakan kedua kepala suku tersebut seperti sistem noken yang diprateikkan dalam pemilu di daerah pegunungan tengah Papua. Padahal, selama ini tak ada penerapan sistem tersebut di Mamberamo Raya.\\\"KPU tak mengakui cara tersebut sebab perwakilan kepala suku untuk mencapai suara hingga sebanyak itu tak sesuai dengan prinsip pemilu,\\\" ujarnya.Berdasarkan hasil pleno KPU Mamberamo Raya dalam pencoblosan ulang untuk 10 TPS, kandidat nomor urut 1 Robby Wilson Rumansara tak meraih suara dan kandidat nomor urut 2 Demianus Kyeuw-Kyeuw-Adiryanus Manemi meraih 10 suara. Sementara itu kandidat Dorinus-Yakobus meraih 1.322 suara.\\n                        \\u00a92008 - 2015 PT. Kompas Cyber Media (Kompas Gramedia Digital Group). All Rights Reserved.\\n                    \"},\n",
    "     {\"Judul\": \"Kejati DKI Upayakan Penemuan Unsur Tindak Pidana Korupsi dalam Kasus PT Brantas - Kompas.com\", \"Konten\": \"JAKARTA, KOMPAS.com - Kejaksaan Tinggi DKI Jakarta saat ini masih mendalami perkara pengadaan iklan yang melibatkan PT Brantas Adipraya.Namun, Kepala Seksi Penerangan Hukum Kejati DKI Jakarta Waluyo enggan berkomentar banyak tentang kasus tersebut. Sebab, kasus masih dalam tahap penyelidikan dan baru berjalan sekitar setengah bulan.Meski begitu, ia menegaskan pihaknya akan berupaya menemukan unsur tindak pidana korupsi dalam perkara tersebut.\\\"Kami baru mulai penyelidikan. Kami akan menemukan tindak pidananya,\\\" kata Waluyo di Kantornya, Jumat (1/4/2016).\\\"Baru mulai. Ibarat (jalan) 1 meter, ini baru 15 sentimeter,\\\" ujarnya.Sejumlah penyidik KPK pada Jumat malam menggeledah Kantor Kejati DKI terkait kasus dugaan suap ke Kejati DKI oleh dua pejabat PT Brantas Abipraya yang saat ini tengah ditangani KPK.Dalam penggeledahan tersebut, penyidik KPK turut menggondol sejumlah dokumen terkait perkara PT Brantas.Meski begitu, Waluyo menegaskan pihaknya tak kan menghentikan proses hukum yang tengah berjalan.\\\"Tetap berlanjut. Tak ada acara mundur,\\\" ujar Waluyo.Waluyo menuturkan, perkara tersebut berkaitan dengan pengadaan iklan. Ia menolak membeberkan lebih rinci terkait perkara yang baru ditangani Kejati DKI selama setengah bulan terakhir itu.Namun menurut dia, dari laporan yang diterima Kejati DKI, perusahaan tersebut diduga tak bisa mempertanggungjawabkan penggunaan anggarannya.Ada pun kerugian yang dilaporkan, kata Waluyo, masih di bawah Rp 10 miliar.\\\"Yang jelas kami tidak bisa menyampaikan karena masih tahap penyelidikan,\\\" kata dia.Sementara itu, ruangan yang digeledah penyidik KPK adalah milik Kepala Kejaksaan Tinggi DKI Jakarta Sudung Situmorang dan Asisten Pidana Khusus Kejati DKI, Tomo Sitepu.Keduanya telah diperiksa KPK sebagai saksi pada Jumat dini hari.KPK sebelumnya menetapkan tiga tersangka, yaitu\\u00a0Sudi Wantoko (SWA) selaku Direktur Keuangan BUMN PT BA, Dandung Pamularno (DPA) selaku Senior Manager PT BA, dan Marudut (MRD) selaku pihak swasta.\\u00a0Dalam operasi tangkap tangan, KPK menyita\\u00a0uang sejumlah 148.835 dollar AS yang\\u00a0terdiri dari\\u00a01847 pecahan 100 dollar AS dan 1 lembar pecahan 50 dollar AS, 3 lembar pecahan 20 dollar AS, 2 lembar pecahan 10 dollar AS, dan 5 lembar pecahan 1 dollar AS.\\n                        \\u00a92008 - 2015 PT. Kompas Cyber Media (Kompas Gramedia Digital Group). All Rights Reserved.\\n                    \"}]\n",
    "\n",
    "stopwords = [line.strip() for line in open(\"C:/Users/azzafirdaus/mypython workspace/stopwords_list_tala.txt\", 'r')]\n",
    "\n",
    "for doc in dic:\n",
    "#     list_kalimat = [x for x in map(str.strip, doc['Konten'].split('.'))]\n",
    "    list_kalimat = re.split(r'\\.(?!\\d)', doc['Konten'])\n",
    "    \n",
    "    for kalimat in list_kalimat:\n",
    "#         print(\"[\"+kalimat+\"]\")\n",
    "        kumpulan_kata = [y for y in re.split('\\W+', str.lower(kalimat)) if not (y.isdigit())]\n",
    "        \n",
    "        for kata in kumpulan_kata:\n",
    "            if kata in stopwords:\n",
    "                kumpulan_kata = list(filter((kata).__ne__, kumpulan_kata))\n",
    "            \n",
    "        kumpulan_kata = list(filter(('').__ne__, kumpulan_kata))\n",
    "        print(kumpulan_kata)\n",
    "        "
   ]
  },
  {
   "cell_type": "code",
   "execution_count": 1,
   "metadata": {
    "collapsed": false
   },
   "outputs": [
    {
     "name": "stdout",
     "output_type": "stream",
     "text": [
      "*** Introductory Examples for the NLTK Book ***\n",
      "Loading text1, ..., text9 and sent1, ..., sent9\n",
      "Type the name of the text or sentence to view it.\n",
      "Type: 'texts()' or 'sents()' to list the materials.\n"
     ]
    },
    {
     "ename": "LookupError",
     "evalue": "\n**********************************************************************\n  Resource 'corpora/gutenberg' not found.  Please use the NLTK\n  Downloader to obtain the resource:  >>> nltk.download()\n  Searched in:\n    - 'C:\\\\Users\\\\azzafirdaus/nltk_data'\n    - 'C:\\\\nltk_data'\n    - 'D:\\\\nltk_data'\n    - 'E:\\\\nltk_data'\n    - 'C:\\\\Users\\\\azzafirdaus\\\\Anaconda3\\\\nltk_data'\n    - 'C:\\\\Users\\\\azzafirdaus\\\\Anaconda3\\\\lib\\\\nltk_data'\n    - 'C:\\\\Users\\\\azzafirdaus\\\\AppData\\\\Roaming\\\\nltk_data'\n**********************************************************************",
     "output_type": "error",
     "traceback": [
      "\u001b[1;31m---------------------------------------------------------------------------\u001b[0m",
      "\u001b[1;31mLookupError\u001b[0m                               Traceback (most recent call last)",
      "\u001b[1;32mC:\\Users\\azzafirdaus\\Anaconda3\\lib\\site-packages\\nltk\\corpus\\util.py\u001b[0m in \u001b[0;36m__load\u001b[1;34m(self)\u001b[0m\n\u001b[0;32m     62\u001b[0m             \u001b[1;32mexcept\u001b[0m \u001b[0mLookupError\u001b[0m \u001b[1;32mas\u001b[0m \u001b[0me\u001b[0m\u001b[1;33m:\u001b[0m\u001b[1;33m\u001b[0m\u001b[0m\n\u001b[1;32m---> 63\u001b[1;33m                 \u001b[1;32mtry\u001b[0m\u001b[1;33m:\u001b[0m \u001b[0mroot\u001b[0m \u001b[1;33m=\u001b[0m \u001b[0mnltk\u001b[0m\u001b[1;33m.\u001b[0m\u001b[0mdata\u001b[0m\u001b[1;33m.\u001b[0m\u001b[0mfind\u001b[0m\u001b[1;33m(\u001b[0m\u001b[1;34m'corpora/%s'\u001b[0m \u001b[1;33m%\u001b[0m \u001b[0mzip_name\u001b[0m\u001b[1;33m)\u001b[0m\u001b[1;33m\u001b[0m\u001b[0m\n\u001b[0m\u001b[0;32m     64\u001b[0m                 \u001b[1;32mexcept\u001b[0m \u001b[0mLookupError\u001b[0m\u001b[1;33m:\u001b[0m \u001b[1;32mraise\u001b[0m \u001b[0me\u001b[0m\u001b[1;33m\u001b[0m\u001b[0m\n",
      "\u001b[1;32mC:\\Users\\azzafirdaus\\Anaconda3\\lib\\site-packages\\nltk\\data.py\u001b[0m in \u001b[0;36mfind\u001b[1;34m(resource_name, paths)\u001b[0m\n\u001b[0;32m    640\u001b[0m     \u001b[0mresource_not_found\u001b[0m \u001b[1;33m=\u001b[0m \u001b[1;34m'\\n%s\\n%s\\n%s'\u001b[0m \u001b[1;33m%\u001b[0m \u001b[1;33m(\u001b[0m\u001b[0msep\u001b[0m\u001b[1;33m,\u001b[0m \u001b[0mmsg\u001b[0m\u001b[1;33m,\u001b[0m \u001b[0msep\u001b[0m\u001b[1;33m)\u001b[0m\u001b[1;33m\u001b[0m\u001b[0m\n\u001b[1;32m--> 641\u001b[1;33m     \u001b[1;32mraise\u001b[0m \u001b[0mLookupError\u001b[0m\u001b[1;33m(\u001b[0m\u001b[0mresource_not_found\u001b[0m\u001b[1;33m)\u001b[0m\u001b[1;33m\u001b[0m\u001b[0m\n\u001b[0m\u001b[0;32m    642\u001b[0m \u001b[1;33m\u001b[0m\u001b[0m\n",
      "\u001b[1;31mLookupError\u001b[0m: \n**********************************************************************\n  Resource 'corpora/gutenberg.zip/gutenberg/' not found.  Please\n  use the NLTK Downloader to obtain the resource:  >>>\n  nltk.download()\n  Searched in:\n    - 'C:\\\\Users\\\\azzafirdaus/nltk_data'\n    - 'C:\\\\nltk_data'\n    - 'D:\\\\nltk_data'\n    - 'E:\\\\nltk_data'\n    - 'C:\\\\Users\\\\azzafirdaus\\\\Anaconda3\\\\nltk_data'\n    - 'C:\\\\Users\\\\azzafirdaus\\\\Anaconda3\\\\lib\\\\nltk_data'\n    - 'C:\\\\Users\\\\azzafirdaus\\\\AppData\\\\Roaming\\\\nltk_data'\n**********************************************************************",
      "\nDuring handling of the above exception, another exception occurred:\n",
      "\u001b[1;31mLookupError\u001b[0m                               Traceback (most recent call last)",
      "\u001b[1;32m<ipython-input-1-2a5ed6d8b2c3>\u001b[0m in \u001b[0;36m<module>\u001b[1;34m()\u001b[0m\n\u001b[1;32m----> 1\u001b[1;33m \u001b[1;32mfrom\u001b[0m \u001b[0mnltk\u001b[0m\u001b[1;33m.\u001b[0m\u001b[0mbook\u001b[0m \u001b[1;32mimport\u001b[0m \u001b[1;33m*\u001b[0m\u001b[1;33m\u001b[0m\u001b[0m\n\u001b[0m",
      "\u001b[1;32mC:\\Users\\azzafirdaus\\Anaconda3\\lib\\site-packages\\nltk\\book.py\u001b[0m in \u001b[0;36m<module>\u001b[1;34m()\u001b[0m\n\u001b[0;32m     18\u001b[0m \u001b[0mprint\u001b[0m\u001b[1;33m(\u001b[0m\u001b[1;34m\"Type: 'texts()' or 'sents()' to list the materials.\"\u001b[0m\u001b[1;33m)\u001b[0m\u001b[1;33m\u001b[0m\u001b[0m\n\u001b[0;32m     19\u001b[0m \u001b[1;33m\u001b[0m\u001b[0m\n\u001b[1;32m---> 20\u001b[1;33m \u001b[0mtext1\u001b[0m \u001b[1;33m=\u001b[0m \u001b[0mText\u001b[0m\u001b[1;33m(\u001b[0m\u001b[0mgutenberg\u001b[0m\u001b[1;33m.\u001b[0m\u001b[0mwords\u001b[0m\u001b[1;33m(\u001b[0m\u001b[1;34m'melville-moby_dick.txt'\u001b[0m\u001b[1;33m)\u001b[0m\u001b[1;33m)\u001b[0m\u001b[1;33m\u001b[0m\u001b[0m\n\u001b[0m\u001b[0;32m     21\u001b[0m \u001b[0mprint\u001b[0m\u001b[1;33m(\u001b[0m\u001b[1;34m\"text1:\"\u001b[0m\u001b[1;33m,\u001b[0m \u001b[0mtext1\u001b[0m\u001b[1;33m.\u001b[0m\u001b[0mname\u001b[0m\u001b[1;33m)\u001b[0m\u001b[1;33m\u001b[0m\u001b[0m\n\u001b[0;32m     22\u001b[0m \u001b[1;33m\u001b[0m\u001b[0m\n",
      "\u001b[1;32mC:\\Users\\azzafirdaus\\Anaconda3\\lib\\site-packages\\nltk\\corpus\\util.py\u001b[0m in \u001b[0;36m__getattr__\u001b[1;34m(self, attr)\u001b[0m\n\u001b[0;32m     97\u001b[0m             \u001b[1;32mraise\u001b[0m \u001b[0mAttributeError\u001b[0m\u001b[1;33m(\u001b[0m\u001b[1;34m\"LazyCorpusLoader object has no attribute '__bases__'\"\u001b[0m\u001b[1;33m)\u001b[0m\u001b[1;33m\u001b[0m\u001b[0m\n\u001b[0;32m     98\u001b[0m \u001b[1;33m\u001b[0m\u001b[0m\n\u001b[1;32m---> 99\u001b[1;33m         \u001b[0mself\u001b[0m\u001b[1;33m.\u001b[0m\u001b[0m__load\u001b[0m\u001b[1;33m(\u001b[0m\u001b[1;33m)\u001b[0m\u001b[1;33m\u001b[0m\u001b[0m\n\u001b[0m\u001b[0;32m    100\u001b[0m         \u001b[1;31m# This looks circular, but its not, since __load() changes our\u001b[0m\u001b[1;33m\u001b[0m\u001b[1;33m\u001b[0m\u001b[0m\n\u001b[0;32m    101\u001b[0m         \u001b[1;31m# __class__ to something new:\u001b[0m\u001b[1;33m\u001b[0m\u001b[1;33m\u001b[0m\u001b[0m\n",
      "\u001b[1;32mC:\\Users\\azzafirdaus\\Anaconda3\\lib\\site-packages\\nltk\\corpus\\util.py\u001b[0m in \u001b[0;36m__load\u001b[1;34m(self)\u001b[0m\n\u001b[0;32m     62\u001b[0m             \u001b[1;32mexcept\u001b[0m \u001b[0mLookupError\u001b[0m \u001b[1;32mas\u001b[0m \u001b[0me\u001b[0m\u001b[1;33m:\u001b[0m\u001b[1;33m\u001b[0m\u001b[0m\n\u001b[0;32m     63\u001b[0m                 \u001b[1;32mtry\u001b[0m\u001b[1;33m:\u001b[0m \u001b[0mroot\u001b[0m \u001b[1;33m=\u001b[0m \u001b[0mnltk\u001b[0m\u001b[1;33m.\u001b[0m\u001b[0mdata\u001b[0m\u001b[1;33m.\u001b[0m\u001b[0mfind\u001b[0m\u001b[1;33m(\u001b[0m\u001b[1;34m'corpora/%s'\u001b[0m \u001b[1;33m%\u001b[0m \u001b[0mzip_name\u001b[0m\u001b[1;33m)\u001b[0m\u001b[1;33m\u001b[0m\u001b[0m\n\u001b[1;32m---> 64\u001b[1;33m                 \u001b[1;32mexcept\u001b[0m \u001b[0mLookupError\u001b[0m\u001b[1;33m:\u001b[0m \u001b[1;32mraise\u001b[0m \u001b[0me\u001b[0m\u001b[1;33m\u001b[0m\u001b[0m\n\u001b[0m\u001b[0;32m     65\u001b[0m \u001b[1;33m\u001b[0m\u001b[0m\n\u001b[0;32m     66\u001b[0m         \u001b[1;31m# Load the corpus.\u001b[0m\u001b[1;33m\u001b[0m\u001b[1;33m\u001b[0m\u001b[0m\n",
      "\u001b[1;32mC:\\Users\\azzafirdaus\\Anaconda3\\lib\\site-packages\\nltk\\corpus\\util.py\u001b[0m in \u001b[0;36m__load\u001b[1;34m(self)\u001b[0m\n\u001b[0;32m     59\u001b[0m         \u001b[1;32melse\u001b[0m\u001b[1;33m:\u001b[0m\u001b[1;33m\u001b[0m\u001b[0m\n\u001b[0;32m     60\u001b[0m             \u001b[1;32mtry\u001b[0m\u001b[1;33m:\u001b[0m\u001b[1;33m\u001b[0m\u001b[0m\n\u001b[1;32m---> 61\u001b[1;33m                 \u001b[0mroot\u001b[0m \u001b[1;33m=\u001b[0m \u001b[0mnltk\u001b[0m\u001b[1;33m.\u001b[0m\u001b[0mdata\u001b[0m\u001b[1;33m.\u001b[0m\u001b[0mfind\u001b[0m\u001b[1;33m(\u001b[0m\u001b[1;34m'corpora/%s'\u001b[0m \u001b[1;33m%\u001b[0m \u001b[0mself\u001b[0m\u001b[1;33m.\u001b[0m\u001b[0m__name\u001b[0m\u001b[1;33m)\u001b[0m\u001b[1;33m\u001b[0m\u001b[0m\n\u001b[0m\u001b[0;32m     62\u001b[0m             \u001b[1;32mexcept\u001b[0m \u001b[0mLookupError\u001b[0m \u001b[1;32mas\u001b[0m \u001b[0me\u001b[0m\u001b[1;33m:\u001b[0m\u001b[1;33m\u001b[0m\u001b[0m\n\u001b[0;32m     63\u001b[0m                 \u001b[1;32mtry\u001b[0m\u001b[1;33m:\u001b[0m \u001b[0mroot\u001b[0m \u001b[1;33m=\u001b[0m \u001b[0mnltk\u001b[0m\u001b[1;33m.\u001b[0m\u001b[0mdata\u001b[0m\u001b[1;33m.\u001b[0m\u001b[0mfind\u001b[0m\u001b[1;33m(\u001b[0m\u001b[1;34m'corpora/%s'\u001b[0m \u001b[1;33m%\u001b[0m \u001b[0mzip_name\u001b[0m\u001b[1;33m)\u001b[0m\u001b[1;33m\u001b[0m\u001b[0m\n",
      "\u001b[1;32mC:\\Users\\azzafirdaus\\Anaconda3\\lib\\site-packages\\nltk\\data.py\u001b[0m in \u001b[0;36mfind\u001b[1;34m(resource_name, paths)\u001b[0m\n\u001b[0;32m    639\u001b[0m     \u001b[0msep\u001b[0m \u001b[1;33m=\u001b[0m \u001b[1;34m'*'\u001b[0m \u001b[1;33m*\u001b[0m \u001b[1;36m70\u001b[0m\u001b[1;33m\u001b[0m\u001b[0m\n\u001b[0;32m    640\u001b[0m     \u001b[0mresource_not_found\u001b[0m \u001b[1;33m=\u001b[0m \u001b[1;34m'\\n%s\\n%s\\n%s'\u001b[0m \u001b[1;33m%\u001b[0m \u001b[1;33m(\u001b[0m\u001b[0msep\u001b[0m\u001b[1;33m,\u001b[0m \u001b[0mmsg\u001b[0m\u001b[1;33m,\u001b[0m \u001b[0msep\u001b[0m\u001b[1;33m)\u001b[0m\u001b[1;33m\u001b[0m\u001b[0m\n\u001b[1;32m--> 641\u001b[1;33m     \u001b[1;32mraise\u001b[0m \u001b[0mLookupError\u001b[0m\u001b[1;33m(\u001b[0m\u001b[0mresource_not_found\u001b[0m\u001b[1;33m)\u001b[0m\u001b[1;33m\u001b[0m\u001b[0m\n\u001b[0m\u001b[0;32m    642\u001b[0m \u001b[1;33m\u001b[0m\u001b[0m\n\u001b[0;32m    643\u001b[0m \u001b[1;33m\u001b[0m\u001b[0m\n",
      "\u001b[1;31mLookupError\u001b[0m: \n**********************************************************************\n  Resource 'corpora/gutenberg' not found.  Please use the NLTK\n  Downloader to obtain the resource:  >>> nltk.download()\n  Searched in:\n    - 'C:\\\\Users\\\\azzafirdaus/nltk_data'\n    - 'C:\\\\nltk_data'\n    - 'D:\\\\nltk_data'\n    - 'E:\\\\nltk_data'\n    - 'C:\\\\Users\\\\azzafirdaus\\\\Anaconda3\\\\nltk_data'\n    - 'C:\\\\Users\\\\azzafirdaus\\\\Anaconda3\\\\lib\\\\nltk_data'\n    - 'C:\\\\Users\\\\azzafirdaus\\\\AppData\\\\Roaming\\\\nltk_data'\n**********************************************************************"
     ]
    }
   ],
   "source": [
    "from nltk.book import *\n"
   ]
  },
  {
   "cell_type": "code",
   "execution_count": null,
   "metadata": {
    "collapsed": true
   },
   "outputs": [],
   "source": []
  }
 ],
 "metadata": {
  "kernelspec": {
   "display_name": "Python 3",
   "language": "python",
   "name": "python3"
  },
  "language_info": {
   "codemirror_mode": {
    "name": "ipython",
    "version": 3
   },
   "file_extension": ".py",
   "mimetype": "text/x-python",
   "name": "python",
   "nbconvert_exporter": "python",
   "pygments_lexer": "ipython3",
   "version": "3.5.1"
  }
 },
 "nbformat": 4,
 "nbformat_minor": 0
}
