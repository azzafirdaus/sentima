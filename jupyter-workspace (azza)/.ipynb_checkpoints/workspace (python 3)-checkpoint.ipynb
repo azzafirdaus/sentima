{
 "cells": [
  {
   "cell_type": "code",
   "execution_count": 66,
   "metadata": {
    "collapsed": false
   },
   "outputs": [
    {
     "name": "stdout",
     "output_type": "stream",
     "text": [
      "['jayapura', 'kompas']\n",
      "['com', 'surat', 'suara', 'dicoblos', 'warga', 'berperan', 'kepala', 'suku', 'pemunggutan', 'suara', 'ulang', 'kabupaten', 'mamberamo', 'raya', 'maret']\n",
      "['ketua', 'komisi', 'pemilihan', 'mamberamo', 'raya', 'klemens', 'obet', 'sineri', 'menyerahkan', 'dokumen', 'pleno', 'penetapan', 'hasil', 'rekapitulasi', 'suara', 'tps', 'ketua', 'kpu', 'provinsi', 'papua', 'adam', 'arisoy', 'jayapura', 'jumat']\n",
      "['klemens', 'pencoblosan', 'suara', 'kepala', 'suku', 'tps', 'daerah', 'fona', 'wakeyadi']\n",
      "['fona', 'salah', 'kepala', 'suku', 'mencoblos', 'suara']\n",
      "['wakeyadi']\n",
      "['kepala', 'suku', 'mencoblos', 'suara', 'klemens']\n",
      "['surat', 'suara', 'dinyatakan', 'sah', 'penetapan', 'hasil', 'pleno', 'pemungutan', 'suara', 'ulang', 'psu']\n",
      "['kepala', 'suku', 'mencoblos', 'surat', 'suara', 'kandidat', 'bupati', 'nomor', 'dorinus', 'dasinapa', 'yakobus', 'britay']\n",
      "['surat', 'suara', 'dikeluarkan', 'rekapitulasi', 'tingkat', 'kpud', 'klemens']\n",
      "['anggota', 'kpu', 'provinsi', 'papua', 'bidang', 'hukum', 'pengawasan', 'tarwinto', 'kepala', 'suku', 'sistem', 'noken', 'diprateikkan', 'pemilu', 'daerah', 'pegunungan', 'papua']\n",
      "['penerapan', 'sistem', 'mamberamo', 'raya']\n",
      "['kpu', 'mengakui', 'perwakilan', 'kepala', 'suku', 'mencapai', 'suara', 'sesuai', 'prinsip', 'pemilu']\n",
      "['berdasarkan', 'hasil', 'pleno', 'kpu', 'mamberamo', 'raya', 'pencoblosan', 'ulang', 'tps', 'kandidat', 'nomor', 'urut', 'robby', 'wilson', 'rumansara', 'meraih', 'suara', 'kandidat', 'nomor', 'urut', 'demianus', 'kyeuw', 'kyeuw', 'adiryanus', 'manemi', 'meraih', 'suara']\n",
      "['kandidat', 'dorinus', 'yakobus', 'meraih', 'suara']\n",
      "['pt']\n",
      "['kompas', 'cyber', 'media', 'kompas', 'gramedia', 'digital', 'group']\n",
      "['all', 'rights', 'reserved']\n",
      "[]\n",
      "['jakarta', 'kompas']\n",
      "['com', 'kejaksaan', 'dki', 'jakarta', 'mendalami', 'perkara', 'pengadaan', 'iklan', 'melibatkan', 'pt', 'brantas', 'adipraya']\n",
      "['kepala', 'seksi', 'penerangan', 'hukum', 'kejati', 'dki', 'jakarta', 'waluyo', 'enggan', 'berkomentar']\n",
      "['tahap', 'penyelidikan', 'berjalan']\n",
      "['berupaya', 'menemukan', 'unsur', 'tindak', 'pidana', 'korupsi', 'perkara']\n",
      "['penyelidikan']\n",
      "['menemukan', 'tindak', 'pidananya', 'waluyo', 'kantornya', 'jumat']\n",
      "[]\n",
      "['jalan', 'meter', 'sentimeter']\n",
      "['penyidik', 'kpk', 'jumat', 'malam', 'menggeledah', 'kantor', 'kejati', 'dki', 'terkait', 'dugaan', 'suap', 'kejati', 'dki', 'pejabat', 'pt', 'brantas', 'abipraya', 'ditangani', 'kpk']\n",
      "['penggeledahan', 'penyidik', 'kpk', 'menggondol', 'dokumen', 'terkait', 'perkara', 'pt', 'brantas']\n",
      "['waluyo', 'menghentikan', 'proses', 'hukum', 'berjalan']\n",
      "['berlanjut']\n",
      "['acara', 'mundur', 'waluyo']\n",
      "['waluyo', 'perkara', 'berkaitan', 'pengadaan', 'iklan']\n",
      "['menolak', 'membeberkan', 'rinci', 'terkait', 'perkara', 'ditangani', 'kejati', 'dki']\n",
      "['laporan', 'diterima', 'kejati', 'dki', 'perusahaan', 'diduga', 'mempertanggungjawabkan', 'penggunaan', 'anggarannya']\n",
      "['kerugian', 'dilaporkan', 'waluyo', 'rp', 'miliar']\n",
      "['tahap', 'penyelidikan']\n",
      "['ruangan', 'digeledah', 'penyidik', 'kpk', 'milik', 'kepala', 'kejaksaan', 'dki', 'jakarta', 'sudung', 'situmorang', 'asisten', 'pidana', 'khusus', 'kejati', 'dki', 'tomo', 'sitepu']\n",
      "['diperiksa', 'kpk', 'saksi', 'jumat']\n",
      "['kpk', 'menetapkan', 'tersangka', 'sudi', 'wantoko', 'swa', 'direktur', 'keuangan', 'bumn', 'pt', 'ba', 'dandung', 'pamularno', 'dpa', 'senior', 'manager', 'pt', 'ba', 'marudut', 'mrd', 'swasta']\n",
      "['operasi', 'tangkap', 'tangan', 'kpk', 'menyita', 'uang', 'dollar', 'as', 'pecahan', 'dollar', 'as', 'lembar', 'pecahan', 'dollar', 'as', 'lembar', 'pecahan', 'dollar', 'as', 'lembar', 'pecahan', 'dollar', 'as', 'lembar', 'pecahan', 'dollar', 'as']\n",
      "['pt']\n",
      "['kompas', 'cyber', 'media', 'kompas', 'gramedia', 'digital', 'group']\n",
      "['all', 'rights', 'reserved']\n",
      "[]\n"
     ]
    }
   ],
   "source": [
    "import re\n",
    "\n",
    "dic = [{\"Judul\": \"Dua Kepala Suku Coblos 74 Surat Suara Saat Pemungutan Ulang di Mamberamo Raya  - Kompas.com\", \"Konten\": \"JAYAPURA, KOMPAS.com\\u00a0- Sebanyak 74 surat suara hanya dicoblos dua warga yang berperan sebagai kepala suku dalam pemunggutan suara ulang di Kabupaten Mamberamo Raya pada 23 Maret 2016.Hal ini diungkapkan Ketua Komisi Pemilihan Umum Mamberamo Raya Klemens Obet Sineri saat menyerahkan dokumen pleno penetapan hasil rekapitulasi suara untuk 10 TPS kepada Ketua KPU Provinsi Papua Adam Arisoy di Jayapura, Jumat (1/4/2016).Klemens mengatakan, pencoblosan 74 suara oleh dua kepala suku terjadi di dua TPS di daerah Fona dan Wakeyadi.\\\"Di Fona, salah satu kepala suku mencoblos 37 suara. Hal yang sama pun terjadi di Wakeyadi. Seorang kepala suku pun mencoblos hingga 37 suara,\\\" kata Klemens.Ia menyatakan, 74 surat suara itu dinyatakan tidak sah dalam penetapan hasil pleno pemungutan suara ulang (PSU).\\\"Kedua kepala suku mencoblos 74 surat suara hanya untuk kandidat bupati nomor 3, yakni Dorinus Dasinapa dan Yakobus Britay. Namun, 74 surat suara ini telah dikeluarkan pada saat rekapitulasi di tingkat KPUD,\\\" kata Klemens.Anggota KPU Provinsi Papua Bidang Hukum dan Pengawasan Tarwinto mengatakan, cara yang digunakan kedua kepala suku tersebut seperti sistem noken yang diprateikkan dalam pemilu di daerah pegunungan tengah Papua. Padahal, selama ini tak ada penerapan sistem tersebut di Mamberamo Raya.\\\"KPU tak mengakui cara tersebut sebab perwakilan kepala suku untuk mencapai suara hingga sebanyak itu tak sesuai dengan prinsip pemilu,\\\" ujarnya.Berdasarkan hasil pleno KPU Mamberamo Raya dalam pencoblosan ulang untuk 10 TPS, kandidat nomor urut 1 Robby Wilson Rumansara tak meraih suara dan kandidat nomor urut 2 Demianus Kyeuw-Kyeuw-Adiryanus Manemi meraih 10 suara. Sementara itu kandidat Dorinus-Yakobus meraih 1.322 suara.\\n                        \\u00a92008 - 2015 PT. Kompas Cyber Media (Kompas Gramedia Digital Group). All Rights Reserved.\\n                    \"},\n",
    "     {\"Judul\": \"Kejati DKI Upayakan Penemuan Unsur Tindak Pidana Korupsi dalam Kasus PT Brantas - Kompas.com\", \"Konten\": \"JAKARTA, KOMPAS.com - Kejaksaan Tinggi DKI Jakarta saat ini masih mendalami perkara pengadaan iklan yang melibatkan PT Brantas Adipraya.Namun, Kepala Seksi Penerangan Hukum Kejati DKI Jakarta Waluyo enggan berkomentar banyak tentang kasus tersebut. Sebab, kasus masih dalam tahap penyelidikan dan baru berjalan sekitar setengah bulan.Meski begitu, ia menegaskan pihaknya akan berupaya menemukan unsur tindak pidana korupsi dalam perkara tersebut.\\\"Kami baru mulai penyelidikan. Kami akan menemukan tindak pidananya,\\\" kata Waluyo di Kantornya, Jumat (1/4/2016).\\\"Baru mulai. Ibarat (jalan) 1 meter, ini baru 15 sentimeter,\\\" ujarnya.Sejumlah penyidik KPK pada Jumat malam menggeledah Kantor Kejati DKI terkait kasus dugaan suap ke Kejati DKI oleh dua pejabat PT Brantas Abipraya yang saat ini tengah ditangani KPK.Dalam penggeledahan tersebut, penyidik KPK turut menggondol sejumlah dokumen terkait perkara PT Brantas.Meski begitu, Waluyo menegaskan pihaknya tak kan menghentikan proses hukum yang tengah berjalan.\\\"Tetap berlanjut. Tak ada acara mundur,\\\" ujar Waluyo.Waluyo menuturkan, perkara tersebut berkaitan dengan pengadaan iklan. Ia menolak membeberkan lebih rinci terkait perkara yang baru ditangani Kejati DKI selama setengah bulan terakhir itu.Namun menurut dia, dari laporan yang diterima Kejati DKI, perusahaan tersebut diduga tak bisa mempertanggungjawabkan penggunaan anggarannya.Ada pun kerugian yang dilaporkan, kata Waluyo, masih di bawah Rp 10 miliar.\\\"Yang jelas kami tidak bisa menyampaikan karena masih tahap penyelidikan,\\\" kata dia.Sementara itu, ruangan yang digeledah penyidik KPK adalah milik Kepala Kejaksaan Tinggi DKI Jakarta Sudung Situmorang dan Asisten Pidana Khusus Kejati DKI, Tomo Sitepu.Keduanya telah diperiksa KPK sebagai saksi pada Jumat dini hari.KPK sebelumnya menetapkan tiga tersangka, yaitu\\u00a0Sudi Wantoko (SWA) selaku Direktur Keuangan BUMN PT BA, Dandung Pamularno (DPA) selaku Senior Manager PT BA, dan Marudut (MRD) selaku pihak swasta.\\u00a0Dalam operasi tangkap tangan, KPK menyita\\u00a0uang sejumlah 148.835 dollar AS yang\\u00a0terdiri dari\\u00a01847 pecahan 100 dollar AS dan 1 lembar pecahan 50 dollar AS, 3 lembar pecahan 20 dollar AS, 2 lembar pecahan 10 dollar AS, dan 5 lembar pecahan 1 dollar AS.\\n                        \\u00a92008 - 2015 PT. Kompas Cyber Media (Kompas Gramedia Digital Group). All Rights Reserved.\\n                    \"}]\n",
    "\n",
    "stopwords = [line.strip() for line in open(\"C:/Users/azzafirdaus/mypython workspace/stopwords_list_tala.txt\", 'r')]\n",
    "\n",
    "for doc in dic:\n",
    "#     list_kalimat = [x for x in map(str.strip, doc['Konten'].split('.'))]\n",
    "    list_kalimat = re.split(r'\\.(?!\\d)', doc['Konten'])\n",
    "    \n",
    "    for kalimat in list_kalimat:\n",
    "#         print(\"[\"+kalimat+\"]\")\n",
    "        kumpulan_kata = [y for y in re.split('\\W+', str.lower(kalimat)) if not (y.isdigit())]\n",
    "        \n",
    "        for kata in kumpulan_kata:\n",
    "            if kata in stopwords:\n",
    "                kumpulan_kata = list(filter((kata).__ne__, kumpulan_kata))\n",
    "            \n",
    "        kumpulan_kata = list(filter(('').__ne__, kumpulan_kata))\n",
    "        print(kumpulan_kata)\n",
    "        "
   ]
  },
  {
   "cell_type": "code",
   "execution_count": 67,
   "metadata": {
    "collapsed": true
   },
   "outputs": [],
   "source": [
    "import nltk"
   ]
  },
  {
   "cell_type": "code",
   "execution_count": null,
   "metadata": {
    "collapsed": true
   },
   "outputs": [],
   "source": []
  }
 ],
 "metadata": {
  "kernelspec": {
   "display_name": "Python 3",
   "language": "python",
   "name": "python3"
  },
  "language_info": {
   "codemirror_mode": {
    "name": "ipython",
    "version": 3
   },
   "file_extension": ".py",
   "mimetype": "text/x-python",
   "name": "python",
   "nbconvert_exporter": "python",
   "pygments_lexer": "ipython3",
   "version": "3.5.1"
  }
 },
 "nbformat": 4,
 "nbformat_minor": 0
}
