{
 "cells": [
  {
   "cell_type": "code",
   "execution_count": 12,
   "metadata": {
    "collapsed": false
   },
   "outputs": [
    {
     "name": "stdout",
     "output_type": "stream",
     "text": [
      "http://indeks.kompas.com/indeks/index/news/megapolitan?tanggal=01&bulan=03&tahun=2016&pos=indeks\n",
      "http://indeks.kompas.com/indeks/index/news/megapolitan?tanggal=02&bulan=03&tahun=2016&pos=indeks\n"
     ]
    }
   ],
   "source": [
    "from bs4 import BeautifulSoup\n",
    "import urllib.request, urllib.parse, re, json\n",
    "from datetime import timedelta, date\n",
    "\n",
    "urllib.parse.quote(':')\n",
    "iterasi = 1\n",
    "\n",
    "def daterange(start_date, end_date):\n",
    "    for n in range(int ((end_date - start_date).days)):\n",
    "        yield start_date + timedelta(n)\n",
    "\n",
    "# soup = BeautifulSoup(urllib.request.urlopen(myUrl).read(), \"lxml\")\n",
    "# print(soup.prettify())\n",
    "\n",
    "#bikin class crawler dengan parameter inputnya adalah url\n",
    "def kompas_crawler(myurl, namaFile = None):\n",
    "    #bikin list buat hasil pencarian\n",
    "    daftar = []\n",
    "    documents = []\n",
    "    \n",
    "    try:\n",
    "        urllib.request.urlopen(myurl)\n",
    "    except Exception as e:\n",
    "        pass\n",
    "    \n",
    "    soup = BeautifulSoup((urllib.request.urlopen(myurl)).read(), \"lxml\")\n",
    "\n",
    "    #buka url setiap berita\n",
    "    #ciri-ciri url berita yaitu tag memiliki attribut target = 'blank' dan href = 'http://..'\n",
    "    \n",
    "    #url page\n",
    "    pages = soup.select('a[href*=\"?p=\"]')\n",
    "    for each_page in pages:\n",
    "        try:\n",
    "            urllib.request.urlopen(each_page.get('href'))\n",
    "        except Exception as e:\n",
    "            continue\n",
    "        \n",
    "        page_soup = BeautifulSoup(urllib.request.urlopen(each_page.get('href')).read(), \"lxml\")\n",
    "        \n",
    "        page_documents = page_soup.find_all('a', href=re.compile(\"read\"), class_=False)\n",
    "        documents.extend(page_documents)\n",
    "        \n",
    "    for doc in documents:\n",
    "        try:\n",
    "            urllib.request.urlopen(doc.get('href'))\n",
    "        except Exception as e:\n",
    "            continue\n",
    "        \n",
    "        print(doc.get('href')\n",
    "              \n",
    "        #bikin soup buat parsing halaman masing-masing berita\n",
    "        innerSoup = BeautifulSoup((urllib.request.urlopen(doc.get('href'))).read(), \"lxml\")\n",
    "        \n",
    "        judul = innerSoup.find('title').get_text()\n",
    "        \n",
    "        konten = innerSoup.find(\"div\", {\"class\": \"kcm-read-text\"}).get_text(\" \", strip=True)\n",
    "             \n",
    "#        konten = []\n",
    "#         for p in innerSoup.findAll('p'):\n",
    "#             konten.append(p.get_text().strip())\n",
    "#        konten = ''.join(konten)\n",
    "        #lokasi = cap(konten[0:(konten.find('komp')-1)], 20)\n",
    "\n",
    "        #bikin dict buat nyimpen data 'Judul' dan 'Konten' suatu berita\n",
    "        dictBerita = {'Konten': konten, 'Judul': judul}\n",
    "\n",
    "        #masukin dict berita tersebut ke dalam list daftar\n",
    "        daftar.append(dictBerita)\n",
    "\n",
    "    #bikin file json berdasarkan input dari user\n",
    "    if namaFile is not None:\n",
    "        with open(namaFile+'.txt', 'w') as output:\n",
    "            json.dump(daftar, output)\n",
    "    \n",
    "    global iterasi\n",
    "    print(\"putaran luar ke \"+ str(iterasi))\n",
    "    iterasi += 1\n",
    "    \n",
    "    return daftar\n",
    "\n",
    "start_date = date(2016, 3, 1)\n",
    "end_date = date(2016, 3, 3)\n",
    "\n",
    "docs = []\n",
    "\n",
    "Url = \"http://indeks.kompas.com/indeks/index/news/megapolitan\"\n",
    "\n",
    "for single_date in daterange(start_date, end_date):\n",
    "    print(Url+\"?tanggal=\"+single_date.strftime(\"%d\")+\"&bulan=\"+single_date.strftime(\"%m\")+\"&tahun=\"+single_date.strftime(\"%Y\")+\"&pos=indeks\")\n",
    "    docs.extend(kompas_crawler(Url+\"?tanggal=\"+single_date.strftime(\"%d\")+\"&bulan=\"+single_date.strftime(\"%m\")+\"&tahun=\"+single_date.strftime(\"%Y\")+\"&pos=indeks\"))\n",
    "    \n",
    "#try:\n",
    "#    page = urllib2.urlopen(url)\n",
    "#except Exception, e:\n",
    "#    continue"
   ]
  },
  {
   "cell_type": "code",
   "execution_count": 14,
   "metadata": {
    "collapsed": false
   },
   "outputs": [],
   "source": [
    "angka = 1\n",
    "for a in docs:\n",
    "#     print(str(angka)+\")\")\n",
    "    print(a['Judul'])\n",
    "#     print(a['Konten'])\n",
    "#     angka += 1"
   ]
  },
  {
   "cell_type": "code",
   "execution_count": 8,
   "metadata": {
    "collapsed": true
   },
   "outputs": [],
   "source": [
    "with open('kompas_politik[2.0](1 Mar - 31 mar).txt', 'w+') as output:\n",
    "    json.dump(docs, output)"
   ]
  },
  {
   "cell_type": "code",
   "execution_count": 8,
   "metadata": {
    "collapsed": false
   },
   "outputs": [
    {
     "name": "stdout",
     "output_type": "stream",
     "text": [
      "http://www.viva.co.id/indeks/berita/politik/2016/4/2?page=1\n",
      "http://www.viva.co.id/indeks/berita/politik/2016/4/2?page=2\n",
      "http://www.viva.co.id/indeks/berita/politik/2016/4/2?page=3\n"
     ]
    }
   ],
   "source": [
    "text = \"http://www.viva.co.id/indeks/berita/politik/2016/4/2\"\n",
    "\n",
    "for a in range(1, 4):\n",
    "    print(text+\"?page=\"+str(a))"
   ]
  },
  {
   "cell_type": "code",
   "execution_count": 7,
   "metadata": {
    "collapsed": false
   },
   "outputs": [
    {
     "name": "stdout",
     "output_type": "stream",
     "text": [
      "2455\n"
     ]
    }
   ],
   "source": [
    "print(len(docs))"
   ]
  },
  {
   "cell_type": "code",
   "execution_count": null,
   "metadata": {
    "collapsed": true
   },
   "outputs": [],
   "source": []
  }
 ],
 "metadata": {
  "kernelspec": {
   "display_name": "Python 3",
   "language": "python",
   "name": "python3"
  },
  "language_info": {
   "codemirror_mode": {
    "name": "ipython",
    "version": 3
   },
   "file_extension": ".py",
   "mimetype": "text/x-python",
   "name": "python",
   "nbconvert_exporter": "python",
   "pygments_lexer": "ipython3",
   "version": "3.5.1"
  }
 },
 "nbformat": 4,
 "nbformat_minor": 0
}
