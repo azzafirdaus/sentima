{
 "cells": [
  {
   "cell_type": "code",
   "execution_count": 2,
   "metadata": {
    "collapsed": false
   },
   "outputs": [
    {
     "name": "stdout",
     "output_type": "stream",
     "text": [
      "Selamat datang!\n",
      "Pastikan server mongo anda sudah berjalan\n",
      "file data yang akan di masukan: baru_buat_tes.json\n",
      "Data telah berhasil dimasukkan ke dalam mongo\n",
      "Nama Database: word_df\n",
      "Nama Collection: terms\n"
     ]
    }
   ],
   "source": [
    "from pymongo import MongoClient\n",
    "import pymongo, re, json\n",
    "\n",
    "# function stopwords buat misahin antara stopwords dan lexicon\n",
    "def stopwords_remove(document):\n",
    "    stopwords = [line.strip() for line in open(\"C:/Users/azzafirdaus/mypython workspace/stopwords_list_tala.txt\", 'r')]\n",
    "    \n",
    "    list_words = [x for x in re.split('\\W+', str.lower(document)) if not (x.isdigit())]\n",
    "    \n",
    "    for word in list_words:\n",
    "        if word in stopwords:\n",
    "            list_words = list(filter((word).__ne__, list_words))\n",
    "            \n",
    "    list_words = list(filter(('').__ne__, list_words))\n",
    "    return list_words        \n",
    "        \n",
    "# buat masukin term ke mongodb lexicon beserta frekuensinya\n",
    "def insert_lexicon(lists):\n",
    "    for word in set(lists):\n",
    "        db.terms.update_one({'Term': word}, {'$inc':{'DF':1}}, upsert=True)\n",
    "        \n",
    "if __name__ == \"__main__\":   \n",
    "    print(\"Selamat datang!\")\n",
    "    print(\"Pastikan server mongo anda sudah berjalan\")\n",
    "    \n",
    "    client = MongoClient()\n",
    "    db = client.word_df\n",
    "    collection = db.terms\n",
    "    \n",
    "    file = input(\"file data yang akan di masukan: \")\n",
    "    docs = json.loads(open(file).read())\n",
    "    \n",
    "    for doc in docs:\n",
    "        removed = stopwords_remove(doc['Konten'])\n",
    "        insert_lexicon(removed)\n",
    "        \n",
    "    print(\"Data telah berhasil dimasukkan ke dalam mongo\")\n",
    "    print(\"Nama Database: word_df\")\n",
    "    print(\"Nama Collection: terms\")"
   ]
  },
  {
   "cell_type": "code",
   "execution_count": null,
   "metadata": {
    "collapsed": true
   },
   "outputs": [],
   "source": [
    "#buat ngecek isi mongo setelah run\n",
    "cursor = collection.find().sort([\n",
    "        ('DF', pymongo.DESCENDING)\n",
    "    ])\n",
    "for b in cursor:\n",
    "    print(b)"
   ]
  }
 ],
 "metadata": {
  "kernelspec": {
   "display_name": "Python 3",
   "language": "python",
   "name": "python3"
  },
  "language_info": {
   "codemirror_mode": {
    "name": "ipython",
    "version": 3
   },
   "file_extension": ".py",
   "mimetype": "text/x-python",
   "name": "python",
   "nbconvert_exporter": "python",
   "pygments_lexer": "ipython3",
   "version": "3.5.1"
  }
 },
 "nbformat": 4,
 "nbformat_minor": 0
}
