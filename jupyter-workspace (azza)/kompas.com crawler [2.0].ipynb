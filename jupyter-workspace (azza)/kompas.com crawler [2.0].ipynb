{
 "cells": [
  {
   "cell_type": "code",
   "execution_count": 16,
   "metadata": {
    "collapsed": false
   },
   "outputs": [
    {
     "name": "stdout",
     "output_type": "stream",
     "text": [
      "http://indeks.kompas.com/indeks/index/news/megapolitan?tanggal=01&bulan=03&tahun=2016&pos=indeks\n",
      "http://megapolitan.kompas.com/read/xml/2016/04/18/20211321/Ahok.Prediksi.Penghentian.Sementara.Proyek.Reklamasi.Hanya.6-7.Bulan\n",
      "http://megapolitan.kompas.com/read/xml/2016/04/18/20163991/Fadli.Zon.Ibaratkan.Pembelian.Lahan.RS.Waras.Seperti.Beli.Mercy.Berbentuk.Kijang\n",
      "http://megapolitan.kompas.com/read/xml/2016/04/18/20054121/Ahok.Tidak.Ada.Cerita.Reklamasi.Akan.Tenggelamkan.Jakarta\n",
      "http://megapolitan.kompas.com/read/xml/2016/04/18/19504511/Kementerian.LHK.Dalami.Kemungkinan.Terjadinya.3.Hal.Ini.dalam.Reklamasi.Teluk.Jakarta.\n",
      "http://megapolitan.kompas.com/read/xml/2016/04/18/19383221/Djarot.Tegaskan.Hubungannya.dengan.Ahok.Baik-baik.Saja\n",
      "http://megapolitan.kompas.com/read/xml/2016/04/18/19121861/Setelah.Tebet.Pelintasan.Kereta.di.Kalibata.Juga.Akan.Ditutup.\n",
      "http://megapolitan.kompas.com/read/xml/2016/04/18/19093261/Warga.Rusun.Rawa.Bebek.Dapat.Etalase.untuk.Berjualan.\n",
      "http://megapolitan.kompas.com/read/xml/2016/04/18/19000041/Molenvliet.dan.Keindahan.di.Masa.Lalu\n",
      "http://megapolitan.kompas.com/read/xml/2016/04/18/18560641/Begini.Cara.Warga.Pasar.Ikan.yang.Tinggal.di.Perahu.Melakukan.MCK\n",
      "http://megapolitan.kompas.com/read/xml/2016/04/18/18373541/Pemerintah.Sepakat.Hentikan.Sementara.Reklamasi.di.Teluk.Jakarta\n",
      "http://megapolitan.kompas.com/read/xml/2016/04/18/18242081/Pelintasan.Sebidang.di.Stasiun.Tebet.Ditutup.Permanen\n",
      "http://megapolitan.kompas.com/read/xml/2016/04/18/18071291/Warga.Luar.Batang.Enggak.Ada.Bantuan.dari.Pemprov.DKI.Abai.Banget\n",
      "http://megapolitan.kompas.com/read/xml/2016/04/18/18022601/FPI.Jaga.Luar.Batang.agar.Tak.Digusur.Pemprov.DKI.\n",
      "http://megapolitan.kompas.com/read/xml/2016/04/18/17524891/Djarot.PPSU.Tetap.Diperlukan.\n",
      "http://megapolitan.kompas.com/read/xml/2016/04/18/17510421/Buka.Jasa.Pembuatan.Rekening.Palsu.Mr.Batman.Ditangkap.Polisi.\n",
      "http://megapolitan.kompas.com/read/xml/2016/04/18/17485671/NA.Diduga.Terbunuh.Dua.Hari.Sebelum.Jasadnya.Ditemukan\n",
      "http://megapolitan.kompas.com/read/xml/2016/04/18/17360941/FPI.Minta.Ahok.Bangun.Rusun.di.Pasar.Ikan\n",
      "http://megapolitan.kompas.com/read/xml/2016/04/18/17255691/Tak.Hadir.Apel.Bendera.Ratusan.PNS.DKI.Terancam.Tak.Dapat.Tunjangan\n",
      "http://megapolitan.kompas.com/read/xml/2016/04/18/17250501/Keluarga.Kenali.Jasad.Korban.Mutilasi.dari.Pakaian.yang.Ditemukan.Polisi\n",
      "http://megapolitan.kompas.com/read/xml/2016/04/18/17241711/Di.Sertifikat.Tertulis.Jalan.Kyai.Tapa.Fadli.Zon.Sebut.Letaknya.di.Tomang.Utara\n",
      "http://megapolitan.kompas.com/read/xml/2016/04/18/17241381/Dapat.Aduan.Warga.Pasar.Ikan.DPRD.DKI.Berkirim.Surat.ke.Ahok\n",
      "http://megapolitan.kompas.com/read/xml/2016/04/18/17165271/Jasad.Janin.Laki-laki.Ditemukan.di.Saluran.Air.Kawasan.Johar.Baru.\n",
      "http://megapolitan.kompas.com/read/xml/2016/04/18/17070001/Menjejak.Laut.yang.Hilang\n",
      "http://megapolitan.kompas.com/read/xml/2016/04/18/17034371/Polisi.Periksa.18.Saksi.Terkait.Kasus.Mutilasi.Wanita.Hamil.di.Cikupa\n",
      "http://megapolitan.kompas.com/read/xml/2016/04/18/16521031/Polisi.Meskipun.Bukan.Suami.Istri.Korban.dan.Pelaku.Mutilasi.Tinggal.Bersama.\n",
      "http://megapolitan.kompas.com/read/xml/2016/04/18/16513811/FPI.Dirikan.Posko.Kemanusiaan.bagi.Korban.Penggusuran.Pasar.Ikan\n",
      "http://megapolitan.kompas.com/read/xml/2016/04/18/16453621/Ahok.Jangan.Dianggap.Jadi.Gubernur.Bisa.Seenak-enaknya.\n",
      "http://megapolitan.kompas.com/read/xml/2016/04/18/16434251/Panik.Usai.Bunuh.NA.AG.Tidur.di.Rumah.Saksi.Kunci\n",
      "http://megapolitan.kompas.com/read/xml/2016/04/18/16411201/Ahok.Kok.Nelayan.Tidak.Pernah.Kritik.Reklamasi.KCN.\n",
      "http://megapolitan.kompas.com/read/xml/2016/04/18/16344761/Polisi.Masih.Mencari.Potongan.Kaki.Korban.Mutilasi.di.Cikupa\n",
      "http://megapolitan.kompas.com/read/xml/2016/04/18/16325271/Saat.Posko.Kemanusiaan.Berdiri.di.Pasar.Ikan.\n",
      "http://megapolitan.kompas.com/read/xml/2016/04/18/16303821/Wali.Kota.Jakut.Benarkan.Rencana.Penertiban.Luar.Batang.\n",
      "http://megapolitan.kompas.com/read/xml/2016/04/18/16180781/Ahok.Minta.Lurah.Awasi.Makanan.di.Resepsi.Pernikahan\n",
      "http://megapolitan.kompas.com/read/xml/2016/04/18/16123731/Cerita.Ratna.Sarumpaet.yang.Dulu.Dukung.Ahok.tetapi.Kini.Menentangnya\n",
      "http://megapolitan.kompas.com/read/xml/2016/04/18/16110631/Penjual.Kopi.Keliling.Ini.Perkosa.Bocah.6.Tahun.dengan.Iming-iming.Uang.Rp.2.000\n",
      "http://megapolitan.kompas.com/read/xml/2016/04/18/15512901/7.Bulan.Ngebor.Antareja.I.Sampai.di.Stasiun.Istora\n",
      "http://megapolitan.kompas.com/read/xml/2016/04/18/15503311/Bareskrim.Ringkus.Bandar.Sabu.Asal.Taiwan.di.Jakarta.Barat\n",
      "http://megapolitan.kompas.com/read/xml/2016/04/18/15334891/Ratna.Sarumpaet.Anggap.Penyediaan.Tenda.sebagai.Permohonan.Maaf.Polri.dan.TNI.kepada.Warga.Pasar.Ikan.\n",
      "http://megapolitan.kompas.com/read/xml/2016/04/18/15125941/Ini.Kata.Sudin.Tata.Kota.Jakut.soal.Pulau.Reklamasi.PT.KCN.yang.Disegel\n",
      "http://megapolitan.kompas.com/read/xml/2016/04/18/15113221/Ketua.DPRD.DKI.Sebut.Penggusuran.Pasar.Ikan.Keterlaluan.Sekali\n",
      "http://megapolitan.kompas.com/read/xml/2016/04/18/15052821/Mereka.Calon.Penantang.Ahok.dari.PDI-P.Dua.di.Antaranya.Djarot.dan.Boy.Sadikin\n",
      "http://megapolitan.kompas.com/read/xml/2016/04/18/15003201/Pembatasan.Motor.hingga.ke.Bundaran.Senayan.Ditargetkan.Berlaku.Awal.Mei\n",
      "http://megapolitan.kompas.com/read/xml/2016/04/18/14562901/Polisi.Dalami.Hubungan.Korban.yang.Dimutilasi.dengan.AG\n",
      "http://megapolitan.kompas.com/read/xml/2016/04/18/14551211/Tiba.di.RS.Sumber.Waras.Fadli.Zon.Langsung.Lakukan.Pertemuan.Tertutup\n",
      "http://megapolitan.kompas.com/read/xml/2016/04/18/14441321/Ratna.Sarumpaet.Ahok.Ini.Orang.Sakit.Semuanya.Dilawan.\n",
      "http://megapolitan.kompas.com/read/xml/2016/04/18/14414891/Ratna.Sarumpaet.Minta.Kapolri.dan.Panglima.Sediakan.Tenda.bagi.Warga.Pasar.Ikan.\n",
      "http://megapolitan.kompas.com/read/xml/2016/04/18/14344491/Dilaporkan.Menipu.Hasnaeni.Wanita.Emas.Sebut.Namanya.Dimanfaatkan\n",
      "http://megapolitan.kompas.com/read/xml/2016/04/18/14245781/Tak.Dibela.BPK.Imam.Si.Penantang.Ahok.Merasa.Dicubit.dan.Ditoyor\n",
      "http://megapolitan.kompas.com/read/xml/2016/04/18/14202371/Korban.dan.Pelaku.Mutilasi.di.Cikupa.Pernah.Bekerja.di.Tempat.yang.Sama\n",
      "http://megapolitan.kompas.com/read/xml/2016/04/18/14121941/Empat.Stasiun.KRL.Telah.Terintegrasi.Transjakarta\n",
      "http://megapolitan.kompas.com/read/xml/2016/04/18/14121101/Ratna.Sarumpaet.Nilai.Pemprov.DKI.Anggap.Warga.Pasar.Ikan.sebagai.Musuh\n",
      "http://megapolitan.kompas.com/read/xml/2016/04/18/13495581/Fadli.Zon.Akan.Sambangi.RS.Sumber.Waras\n",
      "http://megapolitan.kompas.com/read/xml/2016/04/18/13373031/Polisi.Ambil.Sampel.Janin.di.dalam.Tubuh.Korban.Pembunuhan.dan.Mutilasi\n",
      "http://megapolitan.kompas.com/read/xml/2016/04/18/13343941/.Wanita.Emas.Kini.Mengaku.Kenal.dan.Pinjam.Uang.Orang.yang.Menuduhnya.Menipu\n",
      "http://megapolitan.kompas.com/read/xml/2016/04/18/13292851/Ahok.Pasrah.Kasus.Sumber.Waras.dan.Reklamasi.Mencuat.Jelang.Pilkada\n",
      "http://megapolitan.kompas.com/read/xml/2016/04/18/13152281/.Wanita.Emas.yang.Pertama.Kembalikan.Berkas.ke.PDI-P\n",
      "http://megapolitan.kompas.com/read/xml/2016/04/18/13134411/Pulau.Reklamasi.PT.KCN.Sudah.Sebulan.Disegel.Pemprov.DKI\n",
      "http://megapolitan.kompas.com/read/xml/2016/04/18/12573791/Mulai.Minggu.Depan.Transjakarta.Layani.Depok.Tangerang.dan.Bekasi\n",
      "http://megapolitan.kompas.com/read/xml/2016/04/18/12385961/.Polisi.PKI.Polisi.PKI.Teriak.Demonstran.di.Tugu.Tani\n",
      "http://megapolitan.kompas.com/read/xml/2016/04/18/12370941/Ahok.Tepis.Kritik.Djarot.soal.PPSU\n",
      "http://megapolitan.kompas.com/read/xml/2016/04/18/12201021/Dirlantas.Polda.Metro.Jaya.Akan.Kembali.Sterilisasi.Jalur.Transjakarta\n",
      "http://megapolitan.kompas.com/read/xml/2016/04/18/12044331/M.Taufik.Kembali.Diperiksa.KPK.Terkait.Kasus.Sanusi\n",
      "http://megapolitan.kompas.com/read/xml/2016/04/18/11431221/Jalur.Lambat.Jalan.Sudirman.Akan.Dihilangkan.Trotoar.Dilebarkan.hingga.9.5.Meter\n",
      "http://megapolitan.kompas.com/read/xml/2016/04/18/11430161/Izin.Pemakaman.Bisa.Diurus.Lewat.Layanan.Antar.Jemput.Izin.Bermotor.AJIB.\n",
      "http://megapolitan.kompas.com/read/xml/2016/04/18/11354371/Aksi.di.Tugu.Tani.Bikin.Macet.Pendemo.dan.Polisi.Adu.Mulut\n",
      "http://megapolitan.kompas.com/read/xml/2016/04/18/11315611/Ini.Penampakan.Reklamasi.PT.KCN.yang.akan.Dibongkar.Pemprov.DKI\n",
      "http://megapolitan.kompas.com/read/xml/2016/04/18/11245981/Pencuri.Spesialis.Rumah.Kosong.Dibekuk\n",
      "http://megapolitan.kompas.com/read/xml/2016/04/18/11160281/.Kebijakan.Pak.Ahok.Ini.Aneh.Suka.Menganaktirikan.Pengendara.Roda.Dua.\n",
      "http://megapolitan.kompas.com/read/xml/2016/04/18/10573241/Ahok.Dulu.Memuji-muji.PPSU.Top.Top.Top.Sekarang.Tiba-tiba.Beda.\n",
      "http://megapolitan.kompas.com/read/xml/2016/04/18/10375361/.Three.in.One.Dihapus.Transjakarta.Janjikan.Bus.di.Koridor.I.Tiba.di.Halte.Setiap.30.Detik\n",
      "http://megapolitan.kompas.com/read/xml/2016/04/18/10305161/Sore.Ini.Ahok.dan.Susi.akan.Bertemu.di.Kantor.Rizal.Ramli.Bahas.Reklamasi\n",
      "http://megapolitan.kompas.com/read/xml/2016/04/18/10122181/Ahok.Kamu.Kebayang.Enggak.Sih.Rp.700.Miliar.Itu.Berapa.Ton.\n",
      "http://megapolitan.kompas.com/read/xml/2016/04/18/09493761/Ahok.Mengaku.Sudah.Bicara.dengan.Pejabat.KKP.soal.Reklamasi\n",
      "http://megapolitan.kompas.com/read/xml/2016/04/18/09441781/Poin-poin.Perdebatan.Ahok.dan.BPK.Soal.Pembelian.Lahan.RS.Sumber.Waras\n",
      "http://megapolitan.kompas.com/read/xml/2016/04/18/09293411/Antara.Ancaman.Ahok.Digugat.dan.Rekomendasi.Penghentian.Reklamasi\n",
      "http://megapolitan.kompas.com/read/xml/2016/04/18/09081831/Buka-bukaan.Djarot.soal.Pilkada.DKI.Jakarta.2017\n",
      "http://megapolitan.kompas.com/read/xml/2016/04/18/08452711/Buru.Pemutilasi.Wanita.Hamil.Krishna.Murti.Sebar.Foto.Pelaku.di.Facebook\n",
      "http://megapolitan.kompas.com/read/xml/2016/04/18/08281491/Ketika.Lulung.Berkilah.soal.Janji.Iris.Telinga.\n",
      "http://megapolitan.kompas.com/read/xml/2016/04/18/07504291/Alasan.untuk.Hentikan.Reklamasi.Pantai.Jakarta\n",
      "http://megapolitan.kompas.com/read/xml/2016/04/18/07201661/Djarot.dan.Kritiknya.untuk.Ahok\n",
      "http://megapolitan.kompas.com/read/xml/2016/04/18/06450681/Jabodetabek.akan.Diguyur.Hujan\n",
      "http://megapolitan.kompas.com/read/xml/2016/04/18/06373251/Polemik.Pembelian.Lahan.dan.Penjelasan.Sumber.Waras\n",
      "http://megapolitan.kompas.com/read/xml/2016/04/18/06250251/Janji.Djarot.dan.Dukungan.Jadi.Cagub.dari.Akar.Rumput.\n",
      "http://megapolitan.kompas.com/read/xml/2016/04/18/05172591/Imam.Supriyadi.Penantang.Ahok.Pernah.Jadi.Auditor.BPK.\n",
      "putaran luar ke 1\n",
      "http://indeks.kompas.com/indeks/index/news/megapolitan?tanggal=02&bulan=03&tahun=2016&pos=indeks\n",
      "http://megapolitan.kompas.com/read/xml/2016/04/18/20211321/Ahok.Prediksi.Penghentian.Sementara.Proyek.Reklamasi.Hanya.6-7.Bulan\n",
      "http://megapolitan.kompas.com/read/xml/2016/04/18/20163991/Fadli.Zon.Ibaratkan.Pembelian.Lahan.RS.Waras.Seperti.Beli.Mercy.Berbentuk.Kijang\n",
      "http://megapolitan.kompas.com/read/xml/2016/04/18/20054121/Ahok.Tidak.Ada.Cerita.Reklamasi.Akan.Tenggelamkan.Jakarta\n",
      "http://megapolitan.kompas.com/read/xml/2016/04/18/19504511/Kementerian.LHK.Dalami.Kemungkinan.Terjadinya.3.Hal.Ini.dalam.Reklamasi.Teluk.Jakarta.\n",
      "http://megapolitan.kompas.com/read/xml/2016/04/18/19383221/Djarot.Tegaskan.Hubungannya.dengan.Ahok.Baik-baik.Saja\n",
      "http://megapolitan.kompas.com/read/xml/2016/04/18/19121861/Setelah.Tebet.Pelintasan.Kereta.di.Kalibata.Juga.Akan.Ditutup.\n",
      "http://megapolitan.kompas.com/read/xml/2016/04/18/19093261/Warga.Rusun.Rawa.Bebek.Dapat.Etalase.untuk.Berjualan.\n",
      "http://megapolitan.kompas.com/read/xml/2016/04/18/19000041/Molenvliet.dan.Keindahan.di.Masa.Lalu\n",
      "http://megapolitan.kompas.com/read/xml/2016/04/18/18560641/Begini.Cara.Warga.Pasar.Ikan.yang.Tinggal.di.Perahu.Melakukan.MCK\n",
      "http://megapolitan.kompas.com/read/xml/2016/04/18/18373541/Pemerintah.Sepakat.Hentikan.Sementara.Reklamasi.di.Teluk.Jakarta\n",
      "http://megapolitan.kompas.com/read/xml/2016/04/18/18242081/Pelintasan.Sebidang.di.Stasiun.Tebet.Ditutup.Permanen\n",
      "http://megapolitan.kompas.com/read/xml/2016/04/18/18071291/Warga.Luar.Batang.Enggak.Ada.Bantuan.dari.Pemprov.DKI.Abai.Banget\n",
      "http://megapolitan.kompas.com/read/xml/2016/04/18/18022601/FPI.Jaga.Luar.Batang.agar.Tak.Digusur.Pemprov.DKI.\n",
      "http://megapolitan.kompas.com/read/xml/2016/04/18/17524891/Djarot.PPSU.Tetap.Diperlukan.\n",
      "http://megapolitan.kompas.com/read/xml/2016/04/18/17510421/Buka.Jasa.Pembuatan.Rekening.Palsu.Mr.Batman.Ditangkap.Polisi.\n",
      "http://megapolitan.kompas.com/read/xml/2016/04/18/17485671/NA.Diduga.Terbunuh.Dua.Hari.Sebelum.Jasadnya.Ditemukan\n",
      "http://megapolitan.kompas.com/read/xml/2016/04/18/17360941/FPI.Minta.Ahok.Bangun.Rusun.di.Pasar.Ikan\n",
      "http://megapolitan.kompas.com/read/xml/2016/04/18/17255691/Tak.Hadir.Apel.Bendera.Ratusan.PNS.DKI.Terancam.Tak.Dapat.Tunjangan\n",
      "http://megapolitan.kompas.com/read/xml/2016/04/18/17250501/Keluarga.Kenali.Jasad.Korban.Mutilasi.dari.Pakaian.yang.Ditemukan.Polisi\n",
      "http://megapolitan.kompas.com/read/xml/2016/04/18/17241711/Di.Sertifikat.Tertulis.Jalan.Kyai.Tapa.Fadli.Zon.Sebut.Letaknya.di.Tomang.Utara\n",
      "http://megapolitan.kompas.com/read/xml/2016/04/18/17241381/Dapat.Aduan.Warga.Pasar.Ikan.DPRD.DKI.Berkirim.Surat.ke.Ahok\n",
      "http://megapolitan.kompas.com/read/xml/2016/04/18/17165271/Jasad.Janin.Laki-laki.Ditemukan.di.Saluran.Air.Kawasan.Johar.Baru.\n",
      "http://megapolitan.kompas.com/read/xml/2016/04/18/17070001/Menjejak.Laut.yang.Hilang\n",
      "http://megapolitan.kompas.com/read/xml/2016/04/18/17034371/Polisi.Periksa.18.Saksi.Terkait.Kasus.Mutilasi.Wanita.Hamil.di.Cikupa\n",
      "http://megapolitan.kompas.com/read/xml/2016/04/18/16521031/Polisi.Meskipun.Bukan.Suami.Istri.Korban.dan.Pelaku.Mutilasi.Tinggal.Bersama.\n",
      "http://megapolitan.kompas.com/read/xml/2016/04/18/16513811/FPI.Dirikan.Posko.Kemanusiaan.bagi.Korban.Penggusuran.Pasar.Ikan\n",
      "http://megapolitan.kompas.com/read/xml/2016/04/18/16453621/Ahok.Jangan.Dianggap.Jadi.Gubernur.Bisa.Seenak-enaknya.\n",
      "http://megapolitan.kompas.com/read/xml/2016/04/18/16434251/Panik.Usai.Bunuh.NA.AG.Tidur.di.Rumah.Saksi.Kunci\n",
      "http://megapolitan.kompas.com/read/xml/2016/04/18/16411201/Ahok.Kok.Nelayan.Tidak.Pernah.Kritik.Reklamasi.KCN.\n",
      "http://megapolitan.kompas.com/read/xml/2016/04/18/16344761/Polisi.Masih.Mencari.Potongan.Kaki.Korban.Mutilasi.di.Cikupa\n",
      "http://megapolitan.kompas.com/read/xml/2016/04/18/16325271/Saat.Posko.Kemanusiaan.Berdiri.di.Pasar.Ikan.\n",
      "http://megapolitan.kompas.com/read/xml/2016/04/18/16303821/Wali.Kota.Jakut.Benarkan.Rencana.Penertiban.Luar.Batang.\n",
      "http://megapolitan.kompas.com/read/xml/2016/04/18/16180781/Ahok.Minta.Lurah.Awasi.Makanan.di.Resepsi.Pernikahan\n",
      "http://megapolitan.kompas.com/read/xml/2016/04/18/16123731/Cerita.Ratna.Sarumpaet.yang.Dulu.Dukung.Ahok.tetapi.Kini.Menentangnya\n",
      "http://megapolitan.kompas.com/read/xml/2016/04/18/16110631/Penjual.Kopi.Keliling.Ini.Perkosa.Bocah.6.Tahun.dengan.Iming-iming.Uang.Rp.2.000\n",
      "http://megapolitan.kompas.com/read/xml/2016/04/18/15512901/7.Bulan.Ngebor.Antareja.I.Sampai.di.Stasiun.Istora\n",
      "http://megapolitan.kompas.com/read/xml/2016/04/18/15503311/Bareskrim.Ringkus.Bandar.Sabu.Asal.Taiwan.di.Jakarta.Barat\n",
      "http://megapolitan.kompas.com/read/xml/2016/04/18/15334891/Ratna.Sarumpaet.Anggap.Penyediaan.Tenda.sebagai.Permohonan.Maaf.Polri.dan.TNI.kepada.Warga.Pasar.Ikan.\n",
      "http://megapolitan.kompas.com/read/xml/2016/04/18/15125941/Ini.Kata.Sudin.Tata.Kota.Jakut.soal.Pulau.Reklamasi.PT.KCN.yang.Disegel\n",
      "http://megapolitan.kompas.com/read/xml/2016/04/18/15113221/Ketua.DPRD.DKI.Sebut.Penggusuran.Pasar.Ikan.Keterlaluan.Sekali\n",
      "http://megapolitan.kompas.com/read/xml/2016/04/18/15052821/Mereka.Calon.Penantang.Ahok.dari.PDI-P.Dua.di.Antaranya.Djarot.dan.Boy.Sadikin\n",
      "http://megapolitan.kompas.com/read/xml/2016/04/18/15003201/Pembatasan.Motor.hingga.ke.Bundaran.Senayan.Ditargetkan.Berlaku.Awal.Mei\n",
      "http://megapolitan.kompas.com/read/xml/2016/04/18/14562901/Polisi.Dalami.Hubungan.Korban.yang.Dimutilasi.dengan.AG\n",
      "http://megapolitan.kompas.com/read/xml/2016/04/18/14551211/Tiba.di.RS.Sumber.Waras.Fadli.Zon.Langsung.Lakukan.Pertemuan.Tertutup\n",
      "http://megapolitan.kompas.com/read/xml/2016/04/18/14441321/Ratna.Sarumpaet.Ahok.Ini.Orang.Sakit.Semuanya.Dilawan.\n",
      "http://megapolitan.kompas.com/read/xml/2016/04/18/14414891/Ratna.Sarumpaet.Minta.Kapolri.dan.Panglima.Sediakan.Tenda.bagi.Warga.Pasar.Ikan.\n",
      "http://megapolitan.kompas.com/read/xml/2016/04/18/14344491/Dilaporkan.Menipu.Hasnaeni.Wanita.Emas.Sebut.Namanya.Dimanfaatkan\n",
      "http://megapolitan.kompas.com/read/xml/2016/04/18/14245781/Tak.Dibela.BPK.Imam.Si.Penantang.Ahok.Merasa.Dicubit.dan.Ditoyor\n",
      "http://megapolitan.kompas.com/read/xml/2016/04/18/14202371/Korban.dan.Pelaku.Mutilasi.di.Cikupa.Pernah.Bekerja.di.Tempat.yang.Sama\n",
      "http://megapolitan.kompas.com/read/xml/2016/04/18/14121941/Empat.Stasiun.KRL.Telah.Terintegrasi.Transjakarta\n",
      "http://megapolitan.kompas.com/read/xml/2016/04/18/14121101/Ratna.Sarumpaet.Nilai.Pemprov.DKI.Anggap.Warga.Pasar.Ikan.sebagai.Musuh\n",
      "http://megapolitan.kompas.com/read/xml/2016/04/18/13495581/Fadli.Zon.Akan.Sambangi.RS.Sumber.Waras\n",
      "http://megapolitan.kompas.com/read/xml/2016/04/18/13373031/Polisi.Ambil.Sampel.Janin.di.dalam.Tubuh.Korban.Pembunuhan.dan.Mutilasi\n",
      "http://megapolitan.kompas.com/read/xml/2016/04/18/13343941/.Wanita.Emas.Kini.Mengaku.Kenal.dan.Pinjam.Uang.Orang.yang.Menuduhnya.Menipu\n",
      "http://megapolitan.kompas.com/read/xml/2016/04/18/13292851/Ahok.Pasrah.Kasus.Sumber.Waras.dan.Reklamasi.Mencuat.Jelang.Pilkada\n",
      "http://megapolitan.kompas.com/read/xml/2016/04/18/13152281/.Wanita.Emas.yang.Pertama.Kembalikan.Berkas.ke.PDI-P\n",
      "http://megapolitan.kompas.com/read/xml/2016/04/18/13134411/Pulau.Reklamasi.PT.KCN.Sudah.Sebulan.Disegel.Pemprov.DKI\n",
      "http://megapolitan.kompas.com/read/xml/2016/04/18/12573791/Mulai.Minggu.Depan.Transjakarta.Layani.Depok.Tangerang.dan.Bekasi\n",
      "http://megapolitan.kompas.com/read/xml/2016/04/18/12385961/.Polisi.PKI.Polisi.PKI.Teriak.Demonstran.di.Tugu.Tani\n",
      "http://megapolitan.kompas.com/read/xml/2016/04/18/12370941/Ahok.Tepis.Kritik.Djarot.soal.PPSU\n",
      "http://megapolitan.kompas.com/read/xml/2016/04/18/12201021/Dirlantas.Polda.Metro.Jaya.Akan.Kembali.Sterilisasi.Jalur.Transjakarta\n",
      "http://megapolitan.kompas.com/read/xml/2016/04/18/12044331/M.Taufik.Kembali.Diperiksa.KPK.Terkait.Kasus.Sanusi\n",
      "http://megapolitan.kompas.com/read/xml/2016/04/18/11431221/Jalur.Lambat.Jalan.Sudirman.Akan.Dihilangkan.Trotoar.Dilebarkan.hingga.9.5.Meter\n",
      "http://megapolitan.kompas.com/read/xml/2016/04/18/11430161/Izin.Pemakaman.Bisa.Diurus.Lewat.Layanan.Antar.Jemput.Izin.Bermotor.AJIB.\n",
      "http://megapolitan.kompas.com/read/xml/2016/04/18/11354371/Aksi.di.Tugu.Tani.Bikin.Macet.Pendemo.dan.Polisi.Adu.Mulut\n",
      "http://megapolitan.kompas.com/read/xml/2016/04/18/11315611/Ini.Penampakan.Reklamasi.PT.KCN.yang.akan.Dibongkar.Pemprov.DKI\n",
      "http://megapolitan.kompas.com/read/xml/2016/04/18/11245981/Pencuri.Spesialis.Rumah.Kosong.Dibekuk\n",
      "http://megapolitan.kompas.com/read/xml/2016/04/18/11160281/.Kebijakan.Pak.Ahok.Ini.Aneh.Suka.Menganaktirikan.Pengendara.Roda.Dua.\n",
      "http://megapolitan.kompas.com/read/xml/2016/04/18/10573241/Ahok.Dulu.Memuji-muji.PPSU.Top.Top.Top.Sekarang.Tiba-tiba.Beda.\n",
      "http://megapolitan.kompas.com/read/xml/2016/04/18/10375361/.Three.in.One.Dihapus.Transjakarta.Janjikan.Bus.di.Koridor.I.Tiba.di.Halte.Setiap.30.Detik\n",
      "http://megapolitan.kompas.com/read/xml/2016/04/18/10305161/Sore.Ini.Ahok.dan.Susi.akan.Bertemu.di.Kantor.Rizal.Ramli.Bahas.Reklamasi\n",
      "http://megapolitan.kompas.com/read/xml/2016/04/18/10122181/Ahok.Kamu.Kebayang.Enggak.Sih.Rp.700.Miliar.Itu.Berapa.Ton.\n",
      "http://megapolitan.kompas.com/read/xml/2016/04/18/09493761/Ahok.Mengaku.Sudah.Bicara.dengan.Pejabat.KKP.soal.Reklamasi\n",
      "http://megapolitan.kompas.com/read/xml/2016/04/18/09441781/Poin-poin.Perdebatan.Ahok.dan.BPK.Soal.Pembelian.Lahan.RS.Sumber.Waras\n",
      "http://megapolitan.kompas.com/read/xml/2016/04/18/09293411/Antara.Ancaman.Ahok.Digugat.dan.Rekomendasi.Penghentian.Reklamasi\n",
      "http://megapolitan.kompas.com/read/xml/2016/04/18/09081831/Buka-bukaan.Djarot.soal.Pilkada.DKI.Jakarta.2017\n",
      "http://megapolitan.kompas.com/read/xml/2016/04/18/08452711/Buru.Pemutilasi.Wanita.Hamil.Krishna.Murti.Sebar.Foto.Pelaku.di.Facebook\n",
      "http://megapolitan.kompas.com/read/xml/2016/04/18/08281491/Ketika.Lulung.Berkilah.soal.Janji.Iris.Telinga.\n",
      "http://megapolitan.kompas.com/read/xml/2016/04/18/07504291/Alasan.untuk.Hentikan.Reklamasi.Pantai.Jakarta\n",
      "http://megapolitan.kompas.com/read/xml/2016/04/18/07201661/Djarot.dan.Kritiknya.untuk.Ahok\n",
      "http://megapolitan.kompas.com/read/xml/2016/04/18/06450681/Jabodetabek.akan.Diguyur.Hujan\n",
      "http://megapolitan.kompas.com/read/xml/2016/04/18/06373251/Polemik.Pembelian.Lahan.dan.Penjelasan.Sumber.Waras\n",
      "http://megapolitan.kompas.com/read/xml/2016/04/18/06250251/Janji.Djarot.dan.Dukungan.Jadi.Cagub.dari.Akar.Rumput.\n",
      "http://megapolitan.kompas.com/read/xml/2016/04/18/05172591/Imam.Supriyadi.Penantang.Ahok.Pernah.Jadi.Auditor.BPK.\n",
      "putaran luar ke 2\n"
     ]
    }
   ],
   "source": [
    "from bs4 import BeautifulSoup\n",
    "import urllib.request, urllib.parse, re, json\n",
    "from datetime import timedelta, date\n",
    "\n",
    "urllib.parse.quote(':')\n",
    "iterasi = 1\n",
    "\n",
    "def daterange(start_date, end_date):\n",
    "    for n in range(int ((end_date - start_date).days)):\n",
    "        yield start_date + timedelta(n)\n",
    "\n",
    "# soup = BeautifulSoup(urllib.request.urlopen(myUrl).read(), \"lxml\")\n",
    "# print(soup.prettify())\n",
    "\n",
    "#bikin class crawler dengan parameter inputnya adalah url\n",
    "def kompas_crawler(myurl, namaFile = None):\n",
    "    #bikin list buat hasil pencarian\n",
    "    daftar = []\n",
    "    documents = []\n",
    "    \n",
    "    try:\n",
    "        urllib.request.urlopen(myurl)\n",
    "    except Exception as e:\n",
    "        pass\n",
    "    \n",
    "    soup = BeautifulSoup((urllib.request.urlopen(myurl)).read(), \"lxml\")\n",
    "\n",
    "    #buka url setiap berita\n",
    "    #ciri-ciri url berita yaitu tag memiliki attribut target = 'blank' dan href = 'http://..'\n",
    "    \n",
    "    #url page\n",
    "    pages = soup.select('a[href*=\"?p=\"]')\n",
    "    for each_page in pages:\n",
    "        try:\n",
    "            urllib.request.urlopen(each_page.get('href'))\n",
    "        except Exception as e:\n",
    "            continue\n",
    "        \n",
    "        page_soup = BeautifulSoup(urllib.request.urlopen(each_page.get('href')).read(), \"lxml\")\n",
    "        \n",
    "        page_documents = page_soup.find_all('a', href=re.compile(\"read\"), class_=False)\n",
    "        documents.extend(page_documents)\n",
    "        \n",
    "    for doc in documents:\n",
    "        try:\n",
    "            urllib.request.urlopen(doc.get('href'))\n",
    "        except Exception as e:\n",
    "            continue\n",
    "        \n",
    "        print(doc.get('href'))\n",
    "              \n",
    "        #bikin soup buat parsing halaman masing-masing berita\n",
    "        innerSoup = BeautifulSoup((urllib.request.urlopen(doc.get('href'))).read(), \"lxml\")\n",
    "        \n",
    "        judul = innerSoup.find('title').get_text()\n",
    "        \n",
    "        konten = innerSoup.find(\"div\", {\"class\": \"kcm-read-text\"}).get_text(\" \", strip=True)\n",
    "             \n",
    "#        konten = []\n",
    "#         for p in innerSoup.findAll('p'):\n",
    "#             konten.append(p.get_text().strip())\n",
    "#        konten = ''.join(konten)\n",
    "        #lokasi = cap(konten[0:(konten.find('komp')-1)], 20)\n",
    "\n",
    "        #bikin dict buat nyimpen data 'Judul' dan 'Konten' suatu berita\n",
    "        dictBerita = {'Konten': konten, 'Judul': judul}\n",
    "\n",
    "        #masukin dict berita tersebut ke dalam list daftar\n",
    "        daftar.append(dictBerita)\n",
    "\n",
    "    #bikin file json berdasarkan input dari user\n",
    "    if namaFile is not None:\n",
    "        with open(namaFile+'.txt', 'w') as output:\n",
    "            json.dump(daftar, output)\n",
    "    \n",
    "    global iterasi\n",
    "    print(\"putaran luar ke \"+ str(iterasi))\n",
    "    iterasi += 1\n",
    "    \n",
    "    return daftar\n",
    "\n",
    "start_date = date(2016, 3, 1)\n",
    "end_date = date(2016, 3, 3)\n",
    "\n",
    "docs = []\n",
    "\n",
    "Url = \"http://indeks.kompas.com/indeks/index/news/megapolitan\"\n",
    "\n",
    "for single_date in daterange(start_date, end_date):\n",
    "    print(Url+\"?tanggal=\"+single_date.strftime(\"%d\")+\"&bulan=\"+single_date.strftime(\"%m\")+\"&tahun=\"+single_date.strftime(\"%Y\")+\"&pos=indeks\")\n",
    "    docs.extend(kompas_crawler(Url+\"?tanggal=\"+single_date.strftime(\"%d\")+\"&bulan=\"+single_date.strftime(\"%m\")+\"&tahun=\"+single_date.strftime(\"%Y\")+\"&pos=indeks\"))\n",
    "    \n",
    "#try:\n",
    "#    page = urllib2.urlopen(url)\n",
    "#except Exception, e:\n",
    "#    continue"
   ]
  },
  {
   "cell_type": "code",
   "execution_count": 14,
   "metadata": {
    "collapsed": false
   },
   "outputs": [],
   "source": [
    "angka = 1\n",
    "for a in docs:\n",
    "#     print(str(angka)+\")\")\n",
    "    print(a['Judul'])\n",
    "#     print(a['Konten'])\n",
    "#     angka += 1"
   ]
  },
  {
   "cell_type": "code",
   "execution_count": 8,
   "metadata": {
    "collapsed": true
   },
   "outputs": [],
   "source": [
    "with open('kompas_politik[2.0](1 Mar - 31 mar).txt', 'w+') as output:\n",
    "    json.dump(docs, output)"
   ]
  },
  {
   "cell_type": "code",
   "execution_count": 8,
   "metadata": {
    "collapsed": false
   },
   "outputs": [
    {
     "name": "stdout",
     "output_type": "stream",
     "text": [
      "http://www.viva.co.id/indeks/berita/politik/2016/4/2?page=1\n",
      "http://www.viva.co.id/indeks/berita/politik/2016/4/2?page=2\n",
      "http://www.viva.co.id/indeks/berita/politik/2016/4/2?page=3\n"
     ]
    }
   ],
   "source": [
    "text = \"http://www.viva.co.id/indeks/berita/politik/2016/4/2\"\n",
    "\n",
    "for a in range(1, 4):\n",
    "    print(text+\"?page=\"+str(a))"
   ]
  },
  {
   "cell_type": "code",
   "execution_count": 7,
   "metadata": {
    "collapsed": false
   },
   "outputs": [
    {
     "name": "stdout",
     "output_type": "stream",
     "text": [
      "2455\n"
     ]
    }
   ],
   "source": [
    "print(len(docs))"
   ]
  },
  {
   "cell_type": "code",
   "execution_count": 34,
   "metadata": {
    "collapsed": false
   },
   "outputs": [
    {
     "data": {
      "text/plain": [
       "datetime.date"
      ]
     },
     "execution_count": 34,
     "metadata": {},
     "output_type": "execute_result"
    }
   ],
   "source": [
    "from datetime import datetime, date\n",
    "\n",
    "i = str('2015 2 2')\n",
    "try:\n",
    "    ad = datetime.strptime(i, '%Y %m %d').date()\n",
    "except ValueError:\n",
    "    print(\"Incorrect format\")\n",
    "\n",
    "type(ad)"
   ]
  },
  {
   "cell_type": "code",
   "execution_count": 26,
   "metadata": {
    "collapsed": false
   },
   "outputs": [
    {
     "data": {
      "text/plain": [
       "datetime.datetime"
      ]
     },
     "execution_count": 26,
     "metadata": {},
     "output_type": "execute_result"
    }
   ],
   "source": [
    "ab = date(2015, 2, 2)\n",
    "\n",
    "type(ad)"
   ]
  },
  {
   "cell_type": "code",
   "execution_count": null,
   "metadata": {
    "collapsed": true
   },
   "outputs": [],
   "source": []
  }
 ],
 "metadata": {
  "kernelspec": {
   "display_name": "Python 3",
   "language": "python",
   "name": "python3"
  },
  "language_info": {
   "codemirror_mode": {
    "name": "ipython",
    "version": 3
   },
   "file_extension": ".py",
   "mimetype": "text/x-python",
   "name": "python",
   "nbconvert_exporter": "python",
   "pygments_lexer": "ipython3",
   "version": "3.5.1"
  }
 },
 "nbformat": 4,
 "nbformat_minor": 0
}
